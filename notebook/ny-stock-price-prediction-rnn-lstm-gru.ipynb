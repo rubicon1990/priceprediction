{
 "cells": [
  {
   "cell_type": "markdown",
   "metadata": {
    "_cell_guid": "182a3810-aab7-4d65-8ff7-0ad50183d769",
    "_uuid": "c8c2cca5ed3dcf9ff50ba2da4c9db56329bfc2cb"
   },
   "source": [
    "**Author:** Raoul Malm  \n",
    "\n",
    "**Description:** \n",
    "\n",
    "This notebook demonstrates the future price prediction for different stocks using recurrent neural networks in tensorflow. Recurrent neural networks with basic, LSTM or GRU cells are implemented. \n",
    "\n",
    "**Outline:**\n",
    "\n",
    "1. [Libraries and settings](#1-bullet)\n",
    "2. [Analyze data](#2-bullet)\n",
    "3. [Manipulate data](#3-bullet)\n",
    "4. [Model and validate data](#4-bullet)\n",
    "5. [Predictions](#5-bullet)\n",
    "\n",
    "**Reference:**  \n",
    "\n",
    "[LSTM_Stock_prediction-20170507 by BenF](https://www.kaggle.com/benjibb/lstm-stock-prediction-20170507/notebook)"
   ]
  },
  {
   "cell_type": "markdown",
   "metadata": {
    "_cell_guid": "1426ca5e-ed0c-4766-ac74-cd1dd38c680c",
    "_uuid": "8ec772a02eb88c3446fe0f689b2e1ee8ec9deb6b"
   },
   "source": [
    "# 1. Libraries and settings <a class=\"anchor\" id=\"1-bullet\"></a> "
   ]
  },
  {
   "cell_type": "code",
   "execution_count": 17,
   "metadata": {
    "_cell_guid": "5a142d3f-96b5-4378-bb01-903367721e08",
    "_uuid": "78e6c0015907947ff5fade7ad76317633d27177a"
   },
   "outputs": [
    {
     "name": "stdout",
     "output_type": "stream",
     "text": [
      "WARNING:tensorflow:From /opt/anaconda3/envs/tf/lib/python3.7/site-packages/tensorflow_core/python/compat/v2_compat.py:65: disable_resource_variables (from tensorflow.python.ops.variable_scope) is deprecated and will be removed in a future version.\n",
      "Instructions for updating:\n",
      "non-resource variables are not supported in the long term\n",
      "/Users/wyx/projects/priceprediction: ['.DS_Store', 'input', 'README.md', '.gitignore', '.ipynb_checkpoints', 'notebook', '.git']\n",
      "/Users/wyx/projects/priceprediction/notebook: ['ny-stock-price-prediction-rnn-lstm-gru.ipynb', '.ipynb_checkpoints']\n"
     ]
    }
   ],
   "source": [
    "import numpy as np\n",
    "import pandas as pd\n",
    "import math\n",
    "import sklearn\n",
    "import sklearn.preprocessing\n",
    "import datetime\n",
    "import os\n",
    "import matplotlib.pyplot as plt\n",
    "# import tensorflow as tf\n",
    "\n",
    "import tensorflow.compat.v1 as tf\n",
    "tf.disable_v2_behavior()\n",
    "tf.disable_eager_execution()\n",
    "\n",
    "# split data in 80%/10%/10% train/validation/test sets\n",
    "valid_set_size_percentage = 10 \n",
    "test_set_size_percentage = 10 \n",
    "\n",
    "#display parent directory and working directory\n",
    "print(os.path.dirname(os.getcwd())+':', os.listdir(os.path.dirname(os.getcwd())));\n",
    "print(os.getcwd()+':', os.listdir(os.getcwd()));"
   ]
  },
  {
   "cell_type": "markdown",
   "metadata": {
    "_cell_guid": "5416ce8a-24ff-4903-a09b-b2941eae71d9",
    "_uuid": "9422490f417bc1fcac8e6a0a392faa7451173dac"
   },
   "source": [
    "# 2. Analyze data <a class=\"anchor\" id=\"2-bullet\"></a> \n",
    "- load stock prices from prices-split-adjusted.csv\n",
    "- analyze data"
   ]
  },
  {
   "cell_type": "code",
   "execution_count": 2,
   "metadata": {
    "_cell_guid": "60dbc696-dda8-476e-8227-010a79df3aa2",
    "_uuid": "aef1074dd4f86a9fe5a380c83994123ce56cce9d"
   },
   "outputs": [
    {
     "name": "stdout",
     "output_type": "stream",
     "text": [
      "<class 'pandas.core.frame.DataFrame'>\n",
      "Index: 851264 entries, 2016-01-05 to 2016-12-30\n",
      "Data columns (total 6 columns):\n",
      " #   Column  Non-Null Count   Dtype  \n",
      "---  ------  --------------   -----  \n",
      " 0   symbol  851264 non-null  object \n",
      " 1   open    851264 non-null  float64\n",
      " 2   close   851264 non-null  float64\n",
      " 3   low     851264 non-null  float64\n",
      " 4   high    851264 non-null  float64\n",
      " 5   volume  851264 non-null  float64\n",
      "dtypes: float64(5), object(1)\n",
      "memory usage: 45.5+ MB\n",
      "\n",
      "number of different stocks:  501\n",
      "['LVLT', 'LLTC', 'URBN', 'WFM', 'EIX', 'AN', 'CMCSA', 'CF', 'IPG', 'BAC']\n"
     ]
    }
   ],
   "source": [
    "# import all stock prices \n",
    "df = pd.read_csv(\"../input/prices-split-adjusted.csv\", index_col = 0)\n",
    "df.info()\n",
    "df.head()\n",
    "\n",
    "# number of different stocks\n",
    "print('\\nnumber of different stocks: ', len(list(set(df.symbol))))\n",
    "print(list(set(df.symbol))[:10])"
   ]
  },
  {
   "cell_type": "code",
   "execution_count": 3,
   "metadata": {
    "_cell_guid": "962ea6e1-51ff-4bba-ad30-77ca5c765d59",
    "_uuid": "c06e709a1bfecb963213943dc7ce8cd559780d9b"
   },
   "outputs": [
    {
     "data": {
      "text/html": [
       "<div>\n",
       "<style scoped>\n",
       "    .dataframe tbody tr th:only-of-type {\n",
       "        vertical-align: middle;\n",
       "    }\n",
       "\n",
       "    .dataframe tbody tr th {\n",
       "        vertical-align: top;\n",
       "    }\n",
       "\n",
       "    .dataframe thead th {\n",
       "        text-align: right;\n",
       "    }\n",
       "</style>\n",
       "<table border=\"1\" class=\"dataframe\">\n",
       "  <thead>\n",
       "    <tr style=\"text-align: right;\">\n",
       "      <th></th>\n",
       "      <th>symbol</th>\n",
       "      <th>open</th>\n",
       "      <th>close</th>\n",
       "      <th>low</th>\n",
       "      <th>high</th>\n",
       "      <th>volume</th>\n",
       "    </tr>\n",
       "    <tr>\n",
       "      <th>date</th>\n",
       "      <th></th>\n",
       "      <th></th>\n",
       "      <th></th>\n",
       "      <th></th>\n",
       "      <th></th>\n",
       "      <th></th>\n",
       "    </tr>\n",
       "  </thead>\n",
       "  <tbody>\n",
       "    <tr>\n",
       "      <th>2016-12-30</th>\n",
       "      <td>ZBH</td>\n",
       "      <td>103.309998</td>\n",
       "      <td>103.199997</td>\n",
       "      <td>102.849998</td>\n",
       "      <td>103.930000</td>\n",
       "      <td>973800.0</td>\n",
       "    </tr>\n",
       "    <tr>\n",
       "      <th>2016-12-30</th>\n",
       "      <td>ZION</td>\n",
       "      <td>43.070000</td>\n",
       "      <td>43.040001</td>\n",
       "      <td>42.689999</td>\n",
       "      <td>43.310001</td>\n",
       "      <td>1938100.0</td>\n",
       "    </tr>\n",
       "    <tr>\n",
       "      <th>2016-12-30</th>\n",
       "      <td>ZTS</td>\n",
       "      <td>53.639999</td>\n",
       "      <td>53.529999</td>\n",
       "      <td>53.270000</td>\n",
       "      <td>53.740002</td>\n",
       "      <td>1701200.0</td>\n",
       "    </tr>\n",
       "    <tr>\n",
       "      <th>2016-12-30</th>\n",
       "      <td>AIV</td>\n",
       "      <td>44.730000</td>\n",
       "      <td>45.450001</td>\n",
       "      <td>44.410000</td>\n",
       "      <td>45.590000</td>\n",
       "      <td>1380900.0</td>\n",
       "    </tr>\n",
       "    <tr>\n",
       "      <th>2016-12-30</th>\n",
       "      <td>FTV</td>\n",
       "      <td>54.200001</td>\n",
       "      <td>53.630001</td>\n",
       "      <td>53.389999</td>\n",
       "      <td>54.480000</td>\n",
       "      <td>705100.0</td>\n",
       "    </tr>\n",
       "  </tbody>\n",
       "</table>\n",
       "</div>"
      ],
      "text/plain": [
       "           symbol        open       close         low        high     volume\n",
       "date                                                                        \n",
       "2016-12-30    ZBH  103.309998  103.199997  102.849998  103.930000   973800.0\n",
       "2016-12-30   ZION   43.070000   43.040001   42.689999   43.310001  1938100.0\n",
       "2016-12-30    ZTS   53.639999   53.529999   53.270000   53.740002  1701200.0\n",
       "2016-12-30    AIV   44.730000   45.450001   44.410000   45.590000  1380900.0\n",
       "2016-12-30    FTV   54.200001   53.630001   53.389999   54.480000   705100.0"
      ]
     },
     "execution_count": 3,
     "metadata": {},
     "output_type": "execute_result"
    }
   ],
   "source": [
    "df.tail()"
   ]
  },
  {
   "cell_type": "code",
   "execution_count": 4,
   "metadata": {
    "_cell_guid": "d1fc9207-adcd-44f4-85a1-065d34fd82f2",
    "_uuid": "60ee56dd22397b9c545ea7dcc318f5c733d419ba"
   },
   "outputs": [
    {
     "data": {
      "text/html": [
       "<div>\n",
       "<style scoped>\n",
       "    .dataframe tbody tr th:only-of-type {\n",
       "        vertical-align: middle;\n",
       "    }\n",
       "\n",
       "    .dataframe tbody tr th {\n",
       "        vertical-align: top;\n",
       "    }\n",
       "\n",
       "    .dataframe thead th {\n",
       "        text-align: right;\n",
       "    }\n",
       "</style>\n",
       "<table border=\"1\" class=\"dataframe\">\n",
       "  <thead>\n",
       "    <tr style=\"text-align: right;\">\n",
       "      <th></th>\n",
       "      <th>open</th>\n",
       "      <th>close</th>\n",
       "      <th>low</th>\n",
       "      <th>high</th>\n",
       "      <th>volume</th>\n",
       "    </tr>\n",
       "  </thead>\n",
       "  <tbody>\n",
       "    <tr>\n",
       "      <th>count</th>\n",
       "      <td>851264.000000</td>\n",
       "      <td>851264.000000</td>\n",
       "      <td>851264.000000</td>\n",
       "      <td>851264.000000</td>\n",
       "      <td>8.512640e+05</td>\n",
       "    </tr>\n",
       "    <tr>\n",
       "      <th>mean</th>\n",
       "      <td>64.993618</td>\n",
       "      <td>65.011913</td>\n",
       "      <td>64.336541</td>\n",
       "      <td>65.639748</td>\n",
       "      <td>5.415113e+06</td>\n",
       "    </tr>\n",
       "    <tr>\n",
       "      <th>std</th>\n",
       "      <td>75.203893</td>\n",
       "      <td>75.201216</td>\n",
       "      <td>74.459518</td>\n",
       "      <td>75.906861</td>\n",
       "      <td>1.249468e+07</td>\n",
       "    </tr>\n",
       "    <tr>\n",
       "      <th>min</th>\n",
       "      <td>1.660000</td>\n",
       "      <td>1.590000</td>\n",
       "      <td>1.500000</td>\n",
       "      <td>1.810000</td>\n",
       "      <td>0.000000e+00</td>\n",
       "    </tr>\n",
       "    <tr>\n",
       "      <th>25%</th>\n",
       "      <td>31.270000</td>\n",
       "      <td>31.292776</td>\n",
       "      <td>30.940001</td>\n",
       "      <td>31.620001</td>\n",
       "      <td>1.221500e+06</td>\n",
       "    </tr>\n",
       "    <tr>\n",
       "      <th>50%</th>\n",
       "      <td>48.459999</td>\n",
       "      <td>48.480000</td>\n",
       "      <td>47.970001</td>\n",
       "      <td>48.959999</td>\n",
       "      <td>2.476250e+06</td>\n",
       "    </tr>\n",
       "    <tr>\n",
       "      <th>75%</th>\n",
       "      <td>75.120003</td>\n",
       "      <td>75.139999</td>\n",
       "      <td>74.400002</td>\n",
       "      <td>75.849998</td>\n",
       "      <td>5.222500e+06</td>\n",
       "    </tr>\n",
       "    <tr>\n",
       "      <th>max</th>\n",
       "      <td>1584.439941</td>\n",
       "      <td>1578.130005</td>\n",
       "      <td>1549.939941</td>\n",
       "      <td>1600.930054</td>\n",
       "      <td>8.596434e+08</td>\n",
       "    </tr>\n",
       "  </tbody>\n",
       "</table>\n",
       "</div>"
      ],
      "text/plain": [
       "                open          close            low           high  \\\n",
       "count  851264.000000  851264.000000  851264.000000  851264.000000   \n",
       "mean       64.993618      65.011913      64.336541      65.639748   \n",
       "std        75.203893      75.201216      74.459518      75.906861   \n",
       "min         1.660000       1.590000       1.500000       1.810000   \n",
       "25%        31.270000      31.292776      30.940001      31.620001   \n",
       "50%        48.459999      48.480000      47.970001      48.959999   \n",
       "75%        75.120003      75.139999      74.400002      75.849998   \n",
       "max      1584.439941    1578.130005    1549.939941    1600.930054   \n",
       "\n",
       "             volume  \n",
       "count  8.512640e+05  \n",
       "mean   5.415113e+06  \n",
       "std    1.249468e+07  \n",
       "min    0.000000e+00  \n",
       "25%    1.221500e+06  \n",
       "50%    2.476250e+06  \n",
       "75%    5.222500e+06  \n",
       "max    8.596434e+08  "
      ]
     },
     "execution_count": 4,
     "metadata": {},
     "output_type": "execute_result"
    }
   ],
   "source": [
    "df.describe()"
   ]
  },
  {
   "cell_type": "code",
   "execution_count": 5,
   "metadata": {
    "_cell_guid": "8e1e0b13-c1da-4fe1-b971-bb2ebcad453b",
    "_uuid": "ef59e62b988d2b0bfd00f834a7ecc17cb927dfc9"
   },
   "outputs": [
    {
     "name": "stdout",
     "output_type": "stream",
     "text": [
      "<class 'pandas.core.frame.DataFrame'>\n",
      "Index: 851264 entries, 2016-01-05 to 2016-12-30\n",
      "Data columns (total 6 columns):\n",
      " #   Column  Non-Null Count   Dtype  \n",
      "---  ------  --------------   -----  \n",
      " 0   symbol  851264 non-null  object \n",
      " 1   open    851264 non-null  float64\n",
      " 2   close   851264 non-null  float64\n",
      " 3   low     851264 non-null  float64\n",
      " 4   high    851264 non-null  float64\n",
      " 5   volume  851264 non-null  float64\n",
      "dtypes: float64(5), object(1)\n",
      "memory usage: 45.5+ MB\n"
     ]
    }
   ],
   "source": [
    "df.info()"
   ]
  },
  {
   "cell_type": "code",
   "execution_count": 6,
   "metadata": {
    "_cell_guid": "ce84999a-306f-4586-b8d6-dc3a0ab9ab67",
    "_uuid": "1235c99db35b562f09d6fb5721368bcab68e307d"
   },
   "outputs": [
    {
     "data": {
      "image/png": "[encoded data removed]",
      "text/plain": [
       "<Figure size 1080x360 with 2 Axes>"
      ]
     },
     "metadata": {
      "needs_background": "light"
     },
     "output_type": "display_data"
    }
   ],
   "source": [
    "plt.figure(figsize=(15, 5));\n",
    "plt.subplot(1,2,1);\n",
    "plt.plot(df[df.symbol == 'EQIX'].open.values, color='red', label='open')\n",
    "plt.plot(df[df.symbol == 'EQIX'].close.values, color='green', label='close')\n",
    "plt.plot(df[df.symbol == 'EQIX'].low.values, color='blue', label='low')\n",
    "plt.plot(df[df.symbol == 'EQIX'].high.values, color='black', label='high')\n",
    "plt.title('stock price')\n",
    "plt.xlabel('time [days]')\n",
    "plt.ylabel('price')\n",
    "plt.legend(loc='best')\n",
    "#plt.show()\n",
    "\n",
    "plt.subplot(1,2,2);\n",
    "plt.plot(df[df.symbol == 'EQIX'].volume.values, color='black', label='volume')\n",
    "plt.title('stock volume')\n",
    "plt.xlabel('time [days]')\n",
    "plt.ylabel('volume')\n",
    "plt.legend(loc='best');"
   ]
  },
  {
   "cell_type": "markdown",
   "metadata": {
    "_cell_guid": "73ad0def-f162-42b9-a1d6-aac45be27e81",
    "_uuid": "777e047511205f929abf0867c7c8a2edee2531ca"
   },
   "source": [
    "# 3. Manipulate data <a class=\"anchor\" id=\"3-bullet\"></a> \n",
    "- choose a specific stock\n",
    "- drop feature: volume\n",
    "- normalize stock data\n",
    "- create train, validation and test data sets"
   ]
  },
  {
   "cell_type": "code",
   "execution_count": 9,
   "metadata": {
    "_cell_guid": "e577ab98-344e-4a8e-88c2-09a7d45834b9",
    "_uuid": "3333a7ef79ad756a4b0190e8aef2ed8b3624d7d8"
   },
   "outputs": [
    {
     "name": "stdout",
     "output_type": "stream",
     "text": [
      "df_stock.columns.values =  ['open', 'close', 'low', 'high']\n",
      "x_train.shape =  (1394, 19, 4)\n",
      "y_train.shape =  (1394, 4)\n",
      "x_valid.shape =  (174, 19, 4)\n",
      "y_valid.shape =  (174, 4)\n",
      "x_test.shape =  (174, 19, 4)\n",
      "y_test.shape =  (174, 4)\n"
     ]
    }
   ],
   "source": [
    "# function for min-max normalization of stock\n",
    "def normalize_data(df):\n",
    "    min_max_scaler = sklearn.preprocessing.MinMaxScaler()\n",
    "    df['open'] = min_max_scaler.fit_transform(df.open.values.reshape(-1,1))\n",
    "    df['high'] = min_max_scaler.fit_transform(df.high.values.reshape(-1,1))\n",
    "    df['low'] = min_max_scaler.fit_transform(df.low.values.reshape(-1,1))\n",
    "    df['close'] = min_max_scaler.fit_transform(df['close'].values.reshape(-1,1))\n",
    "    return df\n",
    "\n",
    "# function to create train, validation, test data given stock data and sequence length\n",
    "def load_data(stock, seq_len):\n",
    "    # data_raw = stock.as_matrix() # convert to numpy array\n",
    "    data_raw = stock.values\n",
    "    data = []\n",
    "    \n",
    "    # create all possible sequences of length seq_len\n",
    "    for index in range(len(data_raw) - seq_len): \n",
    "        data.append(data_raw[index: index + seq_len])\n",
    "    \n",
    "    data = np.array(data);\n",
    "    valid_set_size = int(np.round(valid_set_size_percentage/100*data.shape[0]));  \n",
    "    test_set_size = int(np.round(test_set_size_percentage/100*data.shape[0]));\n",
    "    train_set_size = data.shape[0] - (valid_set_size + test_set_size);\n",
    "    \n",
    "    x_train = data[:train_set_size,:-1,:]\n",
    "    y_train = data[:train_set_size,-1,:]\n",
    "    \n",
    "    x_valid = data[train_set_size:train_set_size+valid_set_size,:-1,:]\n",
    "    y_valid = data[train_set_size:train_set_size+valid_set_size,-1,:]\n",
    "    \n",
    "    x_test = data[train_set_size+valid_set_size:,:-1,:]\n",
    "    y_test = data[train_set_size+valid_set_size:,-1,:]\n",
    "    \n",
    "    return [x_train, y_train, x_valid, y_valid, x_test, y_test]\n",
    "\n",
    "# choose one stock\n",
    "df_stock = df[df.symbol == 'EQIX'].copy()\n",
    "df_stock.drop(['symbol'],1,inplace=True)\n",
    "df_stock.drop(['volume'],1,inplace=True)\n",
    "\n",
    "cols = list(df_stock.columns.values)\n",
    "print('df_stock.columns.values = ', cols)\n",
    "\n",
    "# normalize stock\n",
    "df_stock_norm = df_stock.copy()\n",
    "df_stock_norm = normalize_data(df_stock_norm)\n",
    "\n",
    "# create train, test data\n",
    "seq_len = 20 # choose sequence length\n",
    "x_train, y_train, x_valid, y_valid, x_test, y_test = load_data(df_stock_norm, seq_len)\n",
    "print('x_train.shape = ',x_train.shape)\n",
    "print('y_train.shape = ', y_train.shape)\n",
    "print('x_valid.shape = ',x_valid.shape)\n",
    "print('y_valid.shape = ', y_valid.shape)\n",
    "print('x_test.shape = ', x_test.shape)\n",
    "print('y_test.shape = ',y_test.shape)"
   ]
  },
  {
   "cell_type": "code",
   "execution_count": 10,
   "metadata": {
    "_cell_guid": "27e07a3b-89ea-48cc-bd86-023785634d1e",
    "_uuid": "c5ce171e4160f5e0175e4e5ab8e242f181262440",
    "scrolled": false
   },
   "outputs": [
    {
     "data": {
      "image/png": "[encoded data removed]",
      "text/plain": [
       "<Figure size 1080x360 with 1 Axes>"
      ]
     },
     "metadata": {
      "needs_background": "light"
     },
     "output_type": "display_data"
    }
   ],
   "source": [
    "plt.figure(figsize=(15, 5));\n",
    "plt.plot(df_stock_norm.open.values, color='red', label='open')\n",
    "plt.plot(df_stock_norm.close.values, color='green', label='low')\n",
    "plt.plot(df_stock_norm.low.values, color='blue', label='low')\n",
    "plt.plot(df_stock_norm.high.values, color='black', label='high')\n",
    "#plt.plot(df_stock_norm.volume.values, color='gray', label='volume')\n",
    "plt.title('stock')\n",
    "plt.xlabel('time [days]')\n",
    "plt.ylabel('normalized price/volume')\n",
    "plt.legend(loc='best')\n",
    "plt.show()"
   ]
  },
  {
   "cell_type": "code",
   "execution_count": 31,
   "metadata": {},
   "outputs": [
    {
     "data": {
      "text/plain": [
       "(1762, 6)"
      ]
     },
     "execution_count": 31,
     "metadata": {},
     "output_type": "execute_result"
    }
   ],
   "source": [
    "df[df.symbol == 'EQIX'].shape"
   ]
  },
  {
   "cell_type": "code",
   "execution_count": 36,
   "metadata": {},
   "outputs": [
    {
     "data": {
      "text/plain": [
       "((1394, 19, 4), (174, 19, 4), (174, 19, 4))"
      ]
     },
     "execution_count": 36,
     "metadata": {},
     "output_type": "execute_result"
    }
   ],
   "source": [
    "x_train.shape, x_valid.shape, x_test.shape"
   ]
  },
  {
   "cell_type": "code",
   "execution_count": 57,
   "metadata": {},
   "outputs": [
    {
     "data": {
      "text/html": [
       "<div>\n",
       "<style scoped>\n",
       "    .dataframe tbody tr th:only-of-type {\n",
       "        vertical-align: middle;\n",
       "    }\n",
       "\n",
       "    .dataframe tbody tr th {\n",
       "        vertical-align: top;\n",
       "    }\n",
       "\n",
       "    .dataframe thead th {\n",
       "        text-align: right;\n",
       "    }\n",
       "</style>\n",
       "<table border=\"1\" class=\"dataframe\">\n",
       "  <thead>\n",
       "    <tr style=\"text-align: right;\">\n",
       "      <th></th>\n",
       "      <th>open</th>\n",
       "      <th>close</th>\n",
       "      <th>low</th>\n",
       "      <th>high</th>\n",
       "    </tr>\n",
       "    <tr>\n",
       "      <th>date</th>\n",
       "      <th></th>\n",
       "      <th></th>\n",
       "      <th></th>\n",
       "      <th></th>\n",
       "    </tr>\n",
       "  </thead>\n",
       "  <tbody>\n",
       "    <tr>\n",
       "      <th>2010-01-04</th>\n",
       "      <td>0.109250</td>\n",
       "      <td>0.122904</td>\n",
       "      <td>0.117440</td>\n",
       "      <td>0.110911</td>\n",
       "    </tr>\n",
       "    <tr>\n",
       "      <th>2010-01-05</th>\n",
       "      <td>0.118896</td>\n",
       "      <td>0.119708</td>\n",
       "      <td>0.123361</td>\n",
       "      <td>0.110816</td>\n",
       "    </tr>\n",
       "    <tr>\n",
       "      <th>2010-01-06</th>\n",
       "      <td>0.116886</td>\n",
       "      <td>0.122810</td>\n",
       "      <td>0.122855</td>\n",
       "      <td>0.113912</td>\n",
       "    </tr>\n",
       "    <tr>\n",
       "      <th>2010-01-07</th>\n",
       "      <td>0.117828</td>\n",
       "      <td>0.115791</td>\n",
       "      <td>0.117852</td>\n",
       "      <td>0.113217</td>\n",
       "    </tr>\n",
       "    <tr>\n",
       "      <th>2010-01-08</th>\n",
       "      <td>0.110130</td>\n",
       "      <td>0.114161</td>\n",
       "      <td>0.115509</td>\n",
       "      <td>0.103519</td>\n",
       "    </tr>\n",
       "    <tr>\n",
       "      <th>2010-01-11</th>\n",
       "      <td>0.110664</td>\n",
       "      <td>0.116919</td>\n",
       "      <td>0.118042</td>\n",
       "      <td>0.106267</td>\n",
       "    </tr>\n",
       "    <tr>\n",
       "      <th>2010-01-12</th>\n",
       "      <td>0.109502</td>\n",
       "      <td>0.103256</td>\n",
       "      <td>0.106200</td>\n",
       "      <td>0.104688</td>\n",
       "    </tr>\n",
       "    <tr>\n",
       "      <th>2010-01-13</th>\n",
       "      <td>0.095834</td>\n",
       "      <td>0.102598</td>\n",
       "      <td>0.103952</td>\n",
       "      <td>0.094295</td>\n",
       "    </tr>\n",
       "    <tr>\n",
       "      <th>2010-01-14</th>\n",
       "      <td>0.099196</td>\n",
       "      <td>0.105857</td>\n",
       "      <td>0.107340</td>\n",
       "      <td>0.095590</td>\n",
       "    </tr>\n",
       "    <tr>\n",
       "      <th>2010-01-15</th>\n",
       "      <td>0.102526</td>\n",
       "      <td>0.099558</td>\n",
       "      <td>0.101735</td>\n",
       "      <td>0.094674</td>\n",
       "    </tr>\n",
       "    <tr>\n",
       "      <th>2010-01-19</th>\n",
       "      <td>0.097216</td>\n",
       "      <td>0.105262</td>\n",
       "      <td>0.101893</td>\n",
       "      <td>0.093663</td>\n",
       "    </tr>\n",
       "    <tr>\n",
       "      <th>2010-01-20</th>\n",
       "      <td>0.097719</td>\n",
       "      <td>0.103757</td>\n",
       "      <td>0.103065</td>\n",
       "      <td>0.093252</td>\n",
       "    </tr>\n",
       "    <tr>\n",
       "      <th>2010-01-21</th>\n",
       "      <td>0.098787</td>\n",
       "      <td>0.103507</td>\n",
       "      <td>0.106706</td>\n",
       "      <td>0.100297</td>\n",
       "    </tr>\n",
       "    <tr>\n",
       "      <th>2010-01-22</th>\n",
       "      <td>0.098819</td>\n",
       "      <td>0.089875</td>\n",
       "      <td>0.092616</td>\n",
       "      <td>0.093979</td>\n",
       "    </tr>\n",
       "    <tr>\n",
       "      <th>2010-01-25</th>\n",
       "      <td>0.088010</td>\n",
       "      <td>0.093228</td>\n",
       "      <td>0.093978</td>\n",
       "      <td>0.083997</td>\n",
       "    </tr>\n",
       "    <tr>\n",
       "      <th>2010-01-26</th>\n",
       "      <td>0.086879</td>\n",
       "      <td>0.091254</td>\n",
       "      <td>0.092933</td>\n",
       "      <td>0.081122</td>\n",
       "    </tr>\n",
       "    <tr>\n",
       "      <th>2010-01-27</th>\n",
       "      <td>0.085308</td>\n",
       "      <td>0.090596</td>\n",
       "      <td>0.089925</td>\n",
       "      <td>0.079195</td>\n",
       "    </tr>\n",
       "    <tr>\n",
       "      <th>2010-01-28</th>\n",
       "      <td>0.086156</td>\n",
       "      <td>0.085926</td>\n",
       "      <td>0.083719</td>\n",
       "      <td>0.077900</td>\n",
       "    </tr>\n",
       "    <tr>\n",
       "      <th>2010-01-29</th>\n",
       "      <td>0.082857</td>\n",
       "      <td>0.081132</td>\n",
       "      <td>0.084162</td>\n",
       "      <td>0.079606</td>\n",
       "    </tr>\n",
       "    <tr>\n",
       "      <th>2010-02-01</th>\n",
       "      <td>0.078364</td>\n",
       "      <td>0.079941</td>\n",
       "      <td>0.081945</td>\n",
       "      <td>0.073635</td>\n",
       "    </tr>\n",
       "    <tr>\n",
       "      <th>2010-02-02</th>\n",
       "      <td>0.075913</td>\n",
       "      <td>0.082229</td>\n",
       "      <td>0.079982</td>\n",
       "      <td>0.071803</td>\n",
       "    </tr>\n",
       "  </tbody>\n",
       "</table>\n",
       "</div>"
      ],
      "text/plain": [
       "                open     close       low      high\n",
       "date                                              \n",
       "2010-01-04  0.109250  0.122904  0.117440  0.110911\n",
       "2010-01-05  0.118896  0.119708  0.123361  0.110816\n",
       "2010-01-06  0.116886  0.122810  0.122855  0.113912\n",
       "2010-01-07  0.117828  0.115791  0.117852  0.113217\n",
       "2010-01-08  0.110130  0.114161  0.115509  0.103519\n",
       "2010-01-11  0.110664  0.116919  0.118042  0.106267\n",
       "2010-01-12  0.109502  0.103256  0.106200  0.104688\n",
       "2010-01-13  0.095834  0.102598  0.103952  0.094295\n",
       "2010-01-14  0.099196  0.105857  0.107340  0.095590\n",
       "2010-01-15  0.102526  0.099558  0.101735  0.094674\n",
       "2010-01-19  0.097216  0.105262  0.101893  0.093663\n",
       "2010-01-20  0.097719  0.103757  0.103065  0.093252\n",
       "2010-01-21  0.098787  0.103507  0.106706  0.100297\n",
       "2010-01-22  0.098819  0.089875  0.092616  0.093979\n",
       "2010-01-25  0.088010  0.093228  0.093978  0.083997\n",
       "2010-01-26  0.086879  0.091254  0.092933  0.081122\n",
       "2010-01-27  0.085308  0.090596  0.089925  0.079195\n",
       "2010-01-28  0.086156  0.085926  0.083719  0.077900\n",
       "2010-01-29  0.082857  0.081132  0.084162  0.079606\n",
       "2010-02-01  0.078364  0.079941  0.081945  0.073635\n",
       "2010-02-02  0.075913  0.082229  0.079982  0.071803"
      ]
     },
     "execution_count": 57,
     "metadata": {},
     "output_type": "execute_result"
    }
   ],
   "source": [
    "df_stock_norm[:21]"
   ]
  },
  {
   "cell_type": "code",
   "execution_count": 44,
   "metadata": {},
   "outputs": [
    {
     "data": {
      "text/plain": [
       "1742"
      ]
     },
     "execution_count": 44,
     "metadata": {},
     "output_type": "execute_result"
    }
   ],
   "source": [
    "sum(map(lambda x: x[0], [x_train.shape, x_valid.shape, x_test.shape]))"
   ]
  },
  {
   "cell_type": "code",
   "execution_count": 55,
   "metadata": {},
   "outputs": [
    {
     "data": {
      "text/plain": [
       "array([[[0.10925029, 0.12290433, 0.11744033, 0.11091105],\n",
       "        [0.11889648, 0.11970795, 0.12336141, 0.11081625],\n",
       "        [0.11688555, 0.12281032, 0.1228548 , 0.11391205],\n",
       "        [0.11782819, 0.1157908 , 0.11785195, 0.11321707],\n",
       "        [0.11013009, 0.11416126, 0.11550885, 0.10351907],\n",
       "        [0.11066424, 0.11691894, 0.11804192, 0.10626737],\n",
       "        [0.10950166, 0.10325594, 0.10619974, 0.10468789],\n",
       "        [0.09583359, 0.10259786, 0.10395163, 0.09429492],\n",
       "        [0.09919562, 0.10585693, 0.10733963, 0.09559008],\n",
       "        [0.10252622, 0.09955816, 0.10173518, 0.094674  ],\n",
       "        [0.09721612, 0.10526152, 0.10189349, 0.09366313],\n",
       "        [0.09771884, 0.10375732, 0.10306505, 0.09325245],\n",
       "        [0.09878716, 0.10350664, 0.10670637, 0.10029694],\n",
       "        [0.09881856, 0.08987496, 0.09261605, 0.09397902],\n",
       "        [0.08800981, 0.09322804, 0.09397758, 0.0839967 ],\n",
       "        [0.08687866, 0.0912538 , 0.09293268, 0.08112206],\n",
       "        [0.08530761, 0.09059573, 0.08992465, 0.0791951 ],\n",
       "        [0.08615596, 0.0859265 , 0.08371859, 0.07789991],\n",
       "        [0.08285679, 0.08113192, 0.08416187, 0.07960575]],\n",
       "\n",
       "       [[0.11889648, 0.11970795, 0.12336141, 0.11081625],\n",
       "        [0.11688555, 0.12281032, 0.1228548 , 0.11391205],\n",
       "        [0.11782819, 0.1157908 , 0.11785195, 0.11321707],\n",
       "        [0.11013009, 0.11416126, 0.11550885, 0.10351907],\n",
       "        [0.11066424, 0.11691894, 0.11804192, 0.10626737],\n",
       "        [0.10950166, 0.10325594, 0.10619974, 0.10468789],\n",
       "        [0.09583359, 0.10259786, 0.10395163, 0.09429492],\n",
       "        [0.09919562, 0.10585693, 0.10733963, 0.09559008],\n",
       "        [0.10252622, 0.09955816, 0.10173518, 0.094674  ],\n",
       "        [0.09721612, 0.10526152, 0.10189349, 0.09366313],\n",
       "        [0.09771884, 0.10375732, 0.10306505, 0.09325245],\n",
       "        [0.09878716, 0.10350664, 0.10670637, 0.10029694],\n",
       "        [0.09881856, 0.08987496, 0.09261605, 0.09397902],\n",
       "        [0.08800981, 0.09322804, 0.09397758, 0.0839967 ],\n",
       "        [0.08687866, 0.0912538 , 0.09293268, 0.08112206],\n",
       "        [0.08530761, 0.09059573, 0.08992465, 0.0791951 ],\n",
       "        [0.08615596, 0.0859265 , 0.08371859, 0.07789991],\n",
       "        [0.08285679, 0.08113192, 0.08416187, 0.07960575],\n",
       "        [0.07836361, 0.07994109, 0.08194543, 0.07363532]]])"
      ]
     },
     "execution_count": 55,
     "metadata": {},
     "output_type": "execute_result"
    }
   ],
   "source": [
    "x_train[:2]"
   ]
  },
  {
   "cell_type": "code",
   "execution_count": 56,
   "metadata": {},
   "outputs": [
    {
     "data": {
      "text/plain": [
       "array([[0.07836361, 0.07994109, 0.08194543, 0.07363532],\n",
       "       [0.07591279, 0.08222871, 0.07998228, 0.07180312]])"
      ]
     },
     "execution_count": 56,
     "metadata": {},
     "output_type": "execute_result"
    }
   ],
   "source": [
    "y_train[:2]"
   ]
  },
  {
   "cell_type": "code",
   "execution_count": null,
   "metadata": {},
   "outputs": [],
   "source": []
  },
  {
   "cell_type": "code",
   "execution_count": null,
   "metadata": {},
   "outputs": [],
   "source": []
  },
  {
   "cell_type": "markdown",
   "metadata": {
    "_cell_guid": "4375362b-7a7c-4572-947c-91f46c4fd77c",
    "_uuid": "a495f69f3a265f419cd5aa0a4119a8b0392365fd"
   },
   "source": [
    "# 4. Model and validate data <a class=\"anchor\" id=\"4-bullet\"></a> \n",
    "- RNNs with basic, LSTM, GRU cells\n"
   ]
  },
  {
   "cell_type": "code",
   "execution_count": 167,
   "metadata": {
    "_cell_guid": "dde96de3-fef3-45cf-959c-22171a28a3b6",
    "_uuid": "b5015613883c52563da5f8e5be8d6adeb274e420"
   },
   "outputs": [],
   "source": [
    "## Basic Cell RNN in tensorflow\n",
    "\n",
    "index_in_epoch = 0;\n",
    "perm_array  = np.arange(x_train.shape[0])\n",
    "np.random.shuffle(perm_array)\n",
    "\n",
    "# function to get the next batch\n",
    "def get_next_batch(batch_size):\n",
    "    global index_in_epoch, x_train, perm_array   \n",
    "    start = index_in_epoch\n",
    "    index_in_epoch += batch_size\n",
    "    \n",
    "    if index_in_epoch > x_train.shape[0]:\n",
    "        np.random.shuffle(perm_array) # shuffle permutation array\n",
    "        start = 0 # start next epoch\n",
    "        index_in_epoch = batch_size\n",
    "        \n",
    "    end = index_in_epoch\n",
    "    return x_train[perm_array[start:end]], y_train[perm_array[start:end]]\n",
    "\n",
    "# parameters\n",
    "n_steps = seq_len-1 \n",
    "n_inputs = 4 \n",
    "n_neurons = 200 \n",
    "n_outputs = 4\n",
    "n_layers = 2\n",
    "learning_rate = 0.001\n",
    "batch_size = 50\n",
    "n_epochs = 100\n",
    "train_set_size = x_train.shape[0]\n",
    "test_set_size = x_test.shape[0]\n",
    "\n",
    "tf.reset_default_graph()\n",
    "\n",
    "X = tf.placeholder(tf.float32, [None, n_steps, n_inputs])\n",
    "y = tf.placeholder(tf.float32, [None, n_outputs])"
   ]
  },
  {
   "cell_type": "code",
   "execution_count": 168,
   "metadata": {},
   "outputs": [],
   "source": [
    "# use Basic RNN Cell\n",
    "# layers = [tf.contrib.rnn.BasicRNNCell(num_units=n_neurons, activation=tf.nn.elu)\n",
    "#           for layer in range(n_layers)]\n",
    "\n",
    "layers = [tf.nn.rnn_cell.BasicRNNCell(num_units=n_neurons, activation=tf.nn.elu)\n",
    "          for layer in range(n_layers)]\n",
    "\n",
    "# use Basic LSTM Cell \n",
    "#layers = [tf.contrib.rnn.BasicLSTMCell(num_units=n_neurons, activation=tf.nn.elu)\n",
    "#          for layer in range(n_layers)]\n",
    "\n",
    "# use LSTM Cell with peephole connections\n",
    "#layers = [tf.contrib.rnn.LSTMCell(num_units=n_neurons, \n",
    "#                                  activation=tf.nn.leaky_relu, use_peepholes = True)\n",
    "#          for layer in range(n_layers)]\n",
    "\n",
    "# use GRU cell\n",
    "#layers = [tf.contrib.rnn.GRUCell(num_units=n_neurons, activation=tf.nn.leaky_relu)\n",
    "#          for layer in range(n_layers)]"
   ]
  },
  {
   "cell_type": "code",
   "execution_count": 169,
   "metadata": {},
   "outputs": [],
   "source": [
    "# multi_layer_cell = tf.contrib.rnn.MultiRNNCell(layers)\n",
    "multi_layer_cell = tf.nn.rnn_cell.MultiRNNCell(layers)\n",
    "rnn_outputs, states = tf.nn.dynamic_rnn(multi_layer_cell, X, dtype=tf.float32)\n",
    "\n",
    "stacked_rnn_outputs = tf.reshape(rnn_outputs, [-1, n_neurons]) \n",
    "stacked_outputs = tf.layers.dense(stacked_rnn_outputs, n_outputs)\n",
    "outputs = tf.reshape(stacked_outputs, [-1, n_steps, n_outputs])\n",
    "outputs = outputs[:,n_steps-1,:] # keep only last output of sequence\n",
    "                                              \n",
    "loss = tf.reduce_mean(tf.square(outputs - y)) # loss function = mean squared error \n",
    "optimizer = tf.train.AdamOptimizer(learning_rate=learning_rate) \n",
    "training_op = optimizer.minimize(loss)"
   ]
  },
  {
   "cell_type": "code",
   "execution_count": 170,
   "metadata": {
    "scrolled": true
   },
   "outputs": [
    {
     "name": "stdout",
     "output_type": "stream",
     "text": [
      "0 epochs, 0 iterations: MSE train/valid = 0.058611 / 0.322857\n",
      "5 epochs, 139 iterations: MSE train/valid = 0.000201 / 0.001500\n",
      "10 epochs, 278 iterations: MSE train/valid = 0.000179 / 0.000831\n",
      "15 epochs, 417 iterations: MSE train/valid = 0.000156 / 0.000988\n",
      "20 epochs, 556 iterations: MSE train/valid = 0.000124 / 0.000640\n",
      "25 epochs, 695 iterations: MSE train/valid = 0.000110 / 0.000372\n",
      "30 epochs, 834 iterations: MSE train/valid = 0.000098 / 0.000378\n",
      "35 epochs, 973 iterations: MSE train/valid = 0.000089 / 0.000326\n",
      "40 epochs, 1112 iterations: MSE train/valid = 0.000085 / 0.000259\n",
      "45 epochs, 1251 iterations: MSE train/valid = 0.000097 / 0.000262\n",
      "50 epochs, 1390 iterations: MSE train/valid = 0.000073 / 0.000279\n",
      "55 epochs, 1529 iterations: MSE train/valid = 0.000089 / 0.000276\n",
      "60 epochs, 1668 iterations: MSE train/valid = 0.000073 / 0.000264\n",
      "65 epochs, 1807 iterations: MSE train/valid = 0.000072 / 0.000275\n",
      "70 epochs, 1946 iterations: MSE train/valid = 0.000067 / 0.000248\n",
      "75 epochs, 2085 iterations: MSE train/valid = 0.000078 / 0.000229\n",
      "80 epochs, 2224 iterations: MSE train/valid = 0.000068 / 0.000286\n",
      "85 epochs, 2363 iterations: MSE train/valid = 0.000068 / 0.000249\n",
      "90 epochs, 2502 iterations: MSE train/valid = 0.000082 / 0.000402\n",
      "95 epochs, 2641 iterations: MSE train/valid = 0.000077 / 0.000370\n",
      "100 epochs, 2780 iterations: MSE train/valid = 0.000062 / 0.000216\n"
     ]
    }
   ],
   "source": [
    "# run graph\n",
    "with tf.Session() as sess: \n",
    "    sess.run(tf.global_variables_initializer())\n",
    "    mse_train = loss.eval(feed_dict={X: x_train, y: y_train})\n",
    "    mse_valid = loss.eval(feed_dict={X: x_valid, y: y_valid})\n",
    "    print('0 epochs, 0 iterations: MSE train/valid = %.6f/%.6f'\n",
    "          % (mse_train, mse_valid))\n",
    "    \n",
    "    for iteration in range(1, math.floor(n_epochs * train_set_size / batch_size) + 1):\n",
    "        x_batch, y_batch = get_next_batch(batch_size) # fetch the next training batch\n",
    "        sess.run(training_op, feed_dict={X: x_batch, y: y_batch})\n",
    "        \n",
    "        if iteration % math.floor(5 * train_set_size / batch_size) == 0:\n",
    "            mse_train = loss.eval(feed_dict={X: x_train, y: y_train})\n",
    "            mse_valid = loss.eval(feed_dict={X: x_valid, y: y_valid})\n",
    "            print('%d epochs, %d iterations: MSE train/valid = %.6f/%.6f'\n",
    "                  % (math.ceil(iteration * batch_size / train_set_size), \n",
    "                     iteration, \n",
    "                     mse_train, \n",
    "                     mse_valid))\n",
    "\n",
    "    y_train_pred = sess.run(outputs, feed_dict={X: x_train})\n",
    "    y_valid_pred = sess.run(outputs, feed_dict={X: x_valid})\n",
    "    y_test_pred = sess.run(outputs, feed_dict={X: x_test})"
   ]
  },
  {
   "cell_type": "code",
   "execution_count": 180,
   "metadata": {},
   "outputs": [
    {
     "data": {
      "text/plain": [
       "(50, 19, 4)"
      ]
     },
     "execution_count": 180,
     "metadata": {},
     "output_type": "execute_result"
    }
   ],
   "source": [
    "x_batch.shape"
   ]
  },
  {
   "cell_type": "code",
   "execution_count": null,
   "metadata": {},
   "outputs": [],
   "source": []
  },
  {
   "cell_type": "code",
   "execution_count": null,
   "metadata": {},
   "outputs": [],
   "source": []
  },
  {
   "cell_type": "markdown",
   "metadata": {
    "_cell_guid": "9035de79-0f5c-4b6b-bc86-0d8d4e2f392e",
    "_uuid": "a88583a9effb6f1f84e13b8853adca62578c2992"
   },
   "source": [
    "# 5. Predictions <a class=\"anchor\" id=\"5-bullet\"></a> "
   ]
  },
  {
   "cell_type": "code",
   "execution_count": 175,
   "metadata": {
    "_cell_guid": "1bb898b9-943e-4e6f-b43d-8bdb6331cc4e",
    "_uuid": "6fa5eb60c8e8a5d3542547629c3e0df14e5c33a3"
   },
   "outputs": [
    {
     "name": "stdout",
     "output_type": "stream",
     "text": [
      "correct sign prediction for close - open price for train/valid/test: 0.75/0.61/0.60\n"
     ]
    },
    {
     "data": {
      "image/png": "[encoded data removed]",
      "text/plain": [
       "<Figure size 1080x360 with 2 Axes>"
      ]
     },
     "metadata": {
      "needs_background": "light"
     },
     "output_type": "display_data"
    }
   ],
   "source": [
    "ft = 0 # 0 = open, 1 = close, 2 = highest, 3 = lowest\n",
    "\n",
    "## show predictions\n",
    "plt.figure(figsize=(15, 5));\n",
    "plt.subplot(1,2,1);\n",
    "\n",
    "plt.plot(np.arange(y_train.shape[0]), y_train[:,ft], color='blue', label='train target')\n",
    "\n",
    "plt.plot(np.arange(y_train.shape[0], y_train.shape[0]+y_valid.shape[0]), y_valid[:,ft],\n",
    "         color='gray', label='valid target')\n",
    "\n",
    "plt.plot(np.arange(y_train.shape[0]+y_valid.shape[0],\n",
    "                   y_train.shape[0]+y_test.shape[0]+y_test.shape[0]),\n",
    "         y_test[:,ft], color='black', label='test target')\n",
    "\n",
    "plt.plot(np.arange(y_train_pred.shape[0]),y_train_pred[:,ft], color='red',\n",
    "         label='train prediction')\n",
    "\n",
    "plt.plot(np.arange(y_train_pred.shape[0], y_train_pred.shape[0]+y_valid_pred.shape[0]),\n",
    "         y_valid_pred[:,ft], color='orange', label='valid prediction')\n",
    "\n",
    "plt.plot(np.arange(y_train_pred.shape[0]+y_valid_pred.shape[0],\n",
    "                   y_train_pred.shape[0]+y_valid_pred.shape[0]+y_test_pred.shape[0]),\n",
    "         y_test_pred[:,ft], color='green', label='test prediction')\n",
    "\n",
    "plt.title('past and future stock prices')\n",
    "plt.xlabel('time [days]')\n",
    "plt.ylabel('normalized price')\n",
    "plt.legend(loc='best');\n",
    "\n",
    "plt.subplot(1,2,2);\n",
    "\n",
    "plt.plot(np.arange(y_train.shape[0], y_train.shape[0]+y_test.shape[0]),\n",
    "         y_test[:,ft], color='black', label='test target')\n",
    "\n",
    "plt.plot(np.arange(y_train_pred.shape[0], y_train_pred.shape[0]+y_test_pred.shape[0]),\n",
    "         y_test_pred[:,ft], color='green', label='test prediction')\n",
    "\n",
    "plt.title('future stock prices')\n",
    "plt.xlabel('time [days]')\n",
    "plt.ylabel('normalized price')\n",
    "plt.legend(loc='best');\n",
    "\n",
    "corr_price_development_train = np.sum(np.equal(np.sign(y_train[:,1]-y_train[:,0]),\n",
    "            np.sign(y_train_pred[:,1]-y_train_pred[:,0])).astype(int)) / y_train.shape[0]\n",
    "corr_price_development_valid = np.sum(np.equal(np.sign(y_valid[:,1]-y_valid[:,0]),\n",
    "            np.sign(y_valid_pred[:,1]-y_valid_pred[:,0])).astype(int)) / y_valid.shape[0]\n",
    "corr_price_development_test = np.sum(np.equal(np.sign(y_test[:,1]-y_test[:,0]),\n",
    "            np.sign(y_test_pred[:,1]-y_test_pred[:,0])).astype(int)) / y_test.shape[0]\n",
    "\n",
    "print('correct sign prediction for close - open price for train/valid/test: %.2f/%.2f/%.2f'\n",
    "      % (corr_price_development_train, \n",
    "         corr_price_development_valid, \n",
    "         corr_price_development_test))"
   ]
  },
  {
   "cell_type": "code",
   "execution_count": null,
   "metadata": {
    "_cell_guid": "581be505-fdc8-4aec-a3a3-19cd28f4e324",
    "_uuid": "2dc96fc968aa367482f1b7dc2018848af84bdb75",
    "collapsed": true
   },
   "outputs": [],
   "source": []
  }
 ],
 "metadata": {
  "kernelspec": {
   "display_name": "Python 3",
   "language": "python",
   "name": "python3"
  },
  "language_info": {
   "codemirror_mode": {
    "name": "ipython",
    "version": 3
   },
   "file_extension": ".py",
   "mimetype": "text/x-python",
   "name": "python",
   "nbconvert_exporter": "python",
   "pygments_lexer": "ipython3",
   "version": "3.7.9"
  }
 },
 "nbformat": 4,
 "nbformat_minor": 1
}
